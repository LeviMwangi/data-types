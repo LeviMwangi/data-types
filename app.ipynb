{
 "cells": [
  {
   "cell_type": "code",
   "execution_count": 2,
   "id": "1eed5630",
   "metadata": {},
   "outputs": [
    {
     "name": "stdout",
     "output_type": "stream",
     "text": [
      "7\n"
     ]
    }
   ],
   "source": [
    "num1 = 2\n",
    "num2 = 5\n",
    "sum = num1 + num2\n",
    "print(sum)"
   ]
  },
  {
   "cell_type": "code",
   "execution_count": 1,
   "id": "f6531851",
   "metadata": {},
   "outputs": [
    {
     "name": "stdout",
     "output_type": "stream",
     "text": [
      "Hello World\n"
     ]
    }
   ],
   "source": [
    "print(\"Hello World\")"
   ]
  },
  {
   "cell_type": "code",
   "execution_count": 3,
   "id": "b5a09066",
   "metadata": {},
   "outputs": [
    {
     "name": "stdout",
     "output_type": "stream",
     "text": [
      "<class 'str'>\n",
      "<class 'int'>\n",
      "<class 'bool'>\n",
      "<class 'float'>\n"
     ]
    }
   ],
   "source": [
    "name = \"Millio\"\n",
    "age = 24\n",
    "is_student = True\n",
    "weight = 60.3\n",
    "\n",
    "print(type(name))\n",
    "print(type(age))\n",
    "print(type(is_student))\n",
    "print(type(weight))"
   ]
  },
  {
   "cell_type": "code",
   "execution_count": 4,
   "id": "3d9ab1a4",
   "metadata": {},
   "outputs": [
    {
     "name": "stdout",
     "output_type": "stream",
     "text": [
      "<class 'list'>\n",
      "<class 'tuple'>\n"
     ]
    }
   ],
   "source": [
    "my_numbers =[1, 2, 3 ,4, 5]\n",
    "my_nums = (1, 2, 3, 4)\n",
    "print(type(my_numbers))\n",
    "print(type(my_nums))"
   ]
  },
  {
   "cell_type": "code",
   "execution_count": 5,
   "id": "a5bb5b35",
   "metadata": {},
   "outputs": [
    {
     "name": "stdout",
     "output_type": "stream",
     "text": [
      "<class 'dict'>\n"
     ]
    }
   ],
   "source": [
    "my_dict = {\n",
    "    \"username\": \"levi\",\n",
    "    \"password\": \"0000\"\n",
    "}\n",
    "print(type(my_dict))"
   ]
  },
  {
   "cell_type": "code",
   "execution_count": 1,
   "id": "0ffe7da3",
   "metadata": {},
   "outputs": [
    {
     "name": "stdout",
     "output_type": "stream",
     "text": [
      "<class 'set'>\n"
     ]
    }
   ],
   "source": [
    "my_set = {'sugar', 'salt'}\n",
    "print(type(my_set))"
   ]
  },
  {
   "cell_type": "code",
   "execution_count": 13,
   "id": "71721880",
   "metadata": {},
   "outputs": [
    {
     "name": "stdout",
     "output_type": "stream",
     "text": [
      "13\n",
      "30\n",
      "7\n",
      "3.3333333333333335\n",
      "3\n",
      "1\n",
      "9\n",
      "1000\n",
      "8.0\n",
      "3.141592653589793\n",
      "3\n",
      "4\n",
      "27.0\n"
     ]
    }
   ],
   "source": [
    "import math\n",
    "a= 10\n",
    "b = 3\n",
    "\n",
    "print(a + b)\n",
    "print(a * b)\n",
    "print(a - b)\n",
    "print(a / b)\n",
    "print(a // b)\n",
    "print(a % b)\n",
    "print(a ^ b)\n",
    "print(a ** b)\n",
    "\n",
    "print(math.sqrt(64))\n",
    "print(math.pi)\n",
    "print(math.floor(3.141592653589793))\n",
    "print(math.ceil(3.1))\n",
    "print(math.pow(3, 3))"
   ]
  },
  {
   "cell_type": "code",
   "execution_count": 15,
   "id": "51f159e4",
   "metadata": {},
   "outputs": [
    {
     "name": "stdout",
     "output_type": "stream",
     "text": [
      "12.346\n"
     ]
    }
   ],
   "source": [
    "number = 12.3456789\n",
    "truncated_number = \"{:.3f}\".format(number)  \n",
    "print(truncated_number)  \n"
   ]
  },
  {
   "cell_type": "code",
   "execution_count": 17,
   "id": "2e7f5ff3",
   "metadata": {},
   "outputs": [
    {
     "name": "stdout",
     "output_type": "stream",
     "text": [
      "3.264\n",
      "1.41\n"
     ]
    }
   ],
   "source": [
    "print(round(3.2636328, 3))\n",
    "print(round(math.sqrt(2), 2))"
   ]
  },
  {
   "cell_type": "code",
   "execution_count": 20,
   "id": "816f8432",
   "metadata": {},
   "outputs": [
    {
     "name": "stdout",
     "output_type": "stream",
     "text": [
      "12.0\n"
     ]
    }
   ],
   "source": [
    "num3 = float(input('Enter First Number: '))\n",
    "num4 = float(input('Enter Second Number: '))\n",
    "\n",
    "sum = (num3 + num4)\n",
    "print(sum)"
   ]
  },
  {
   "cell_type": "code",
   "execution_count": 23,
   "id": "cde7d9d0",
   "metadata": {},
   "outputs": [
    {
     "name": "stdout",
     "output_type": "stream",
     "text": [
      "Levi Njenga\n"
     ]
    }
   ],
   "source": [
    "first_name = input('Enter First Name: ')\n",
    "second_name = input('Enter Second Name: ')\n",
    "\n",
    "name = (first_name + ' ' + second_name)\n",
    "print(name)"
   ]
  },
  {
   "cell_type": "code",
   "execution_count": 24,
   "id": "e9b7076b",
   "metadata": {},
   "outputs": [
    {
     "name": "stdout",
     "output_type": "stream",
     "text": [
      "hello there\n"
     ]
    }
   ],
   "source": [
    "text = 'Hello There'\n",
    "lowercase_text = text.lower()\n",
    "print(lowercase_text)"
   ]
  },
  {
   "cell_type": "code",
   "execution_count": 25,
   "id": "f1d335f7",
   "metadata": {},
   "outputs": [
    {
     "name": "stdout",
     "output_type": "stream",
     "text": [
      "HELLO THERE\n"
     ]
    }
   ],
   "source": [
    "text = 'Hello There'\n",
    "uppercase_text = text.upper()\n",
    "print(uppercase_text)"
   ]
  },
  {
   "cell_type": "code",
   "execution_count": 26,
   "id": "5ab4ca5a",
   "metadata": {},
   "outputs": [
    {
     "name": "stdout",
     "output_type": "stream",
     "text": [
      "hELLO tHERE\n"
     ]
    }
   ],
   "source": [
    "text = 'Hello There'\n",
    "uppercase_text = text.swapcase()\n",
    "print(uppercase_text)"
   ]
  },
  {
   "cell_type": "code",
   "execution_count": 33,
   "id": "c59c6361",
   "metadata": {},
   "outputs": [
    {
     "name": "stdout",
     "output_type": "stream",
     "text": [
      "HELLO THERE\n",
      "hello there\n",
      "hELLO tHERE\n",
      "Hello There\n",
      "True\n",
      "False\n",
      "False\n"
     ]
    }
   ],
   "source": [
    "text = 'Hello There'\n",
    "print(text.upper())\n",
    "print(text.lower())\n",
    "print(text.swapcase())\n",
    "print(text.title())\n",
    "\n",
    "text2 = '12b'\n",
    "print(text2.isalnum())\n",
    "print(text.isspace())\n",
    "print(text2.isalpha())"
   ]
  },
  {
   "cell_type": "code",
   "execution_count": 6,
   "id": "cf5a17b4",
   "metadata": {},
   "outputs": [
    {
     "name": "stdout",
     "output_type": "stream",
     "text": [
      "<class 'list'>\n",
      "['red', ' blue', ' green', ' yellow']\n",
      "red  blue  green  yellow\n",
      "Millo Levi is 23 years old.\n"
     ]
    }
   ],
   "source": [
    "colors = 'red, blue, green, yellow'.split(',')\n",
    "print(type(colors))\n",
    "\n",
    "joined = ' '.join(colors)\n",
    "print(colors)\n",
    "print(joined)\n",
    "\n",
    "name = input('Enter Your Name: ')\n",
    "age = int(input('Enter Your Age: '))\n",
    "\n",
    "print (f'{name} is {age} years old.')"
   ]
  },
  {
   "cell_type": "code",
   "execution_count": 7,
   "id": "7f5a63c6",
   "metadata": {},
   "outputs": [
    {
     "name": "stdout",
     "output_type": "stream",
     "text": [
      "Hello there, 'How are you'\n",
      "\n"
     ]
    }
   ],
   "source": [
    "s = 'Hello there, \\'How are you\\'\\n'\n",
    "print(s)"
   ]
  },
  {
   "cell_type": "code",
   "execution_count": 1,
   "id": "856c2cd8",
   "metadata": {},
   "outputs": [
    {
     "name": "stdout",
     "output_type": "stream",
     "text": [
      "Millo\n"
     ]
    }
   ],
   "source": [
    "name_input = input('Enter Your Name: ')\n",
    "print(f'{name_input}')"
   ]
  },
  {
   "cell_type": "code",
   "execution_count": 2,
   "id": "42a32f66",
   "metadata": {},
   "outputs": [
    {
     "name": "stdout",
     "output_type": "stream",
     "text": [
      "30.84\n"
     ]
    }
   ],
   "source": [
    "Hours =float(input('Enter Hours: '))\n",
    "rate = float(input('Enter Rate: '))\n",
    "pay = (Hours * rate)\n",
    "\n",
    "print(round(pay, 2))\n",
    "\n"
   ]
  },
  {
   "cell_type": "code",
   "execution_count": 6,
   "id": "537e91c2",
   "metadata": {},
   "outputs": [
    {
     "name": "stdout",
     "output_type": "stream",
     "text": [
      "<class 'int'>\n",
      "<class 'float'>\n",
      "<class 'float'>\n",
      "<class 'int'>\n"
     ]
    }
   ],
   "source": [
    "width = 17\n",
    "height = 12.0\n",
    "\n",
    "result1 = width // 2      \n",
    "result2 = width / 2.0     \n",
    "result3 = height / 3      \n",
    "result4 = 1 + 2 * 5       \n",
    "\n",
    "print(type(result1))\n",
    "print(type(result2))\n",
    "print(type(result3))\n",
    "print(type(result4))"
   ]
  }
 ],
 "metadata": {
  "kernelspec": {
   "display_name": "virtual",
   "language": "python",
   "name": "python3"
  },
  "language_info": {
   "codemirror_mode": {
    "name": "ipython",
    "version": 3
   },
   "file_extension": ".py",
   "mimetype": "text/x-python",
   "name": "python",
   "nbconvert_exporter": "python",
   "pygments_lexer": "ipython3",
   "version": "3.13.2"
  }
 },
 "nbformat": 4,
 "nbformat_minor": 5
}
