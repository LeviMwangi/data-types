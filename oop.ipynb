{
 "cells": [
  {
   "cell_type": "code",
   "execution_count": 1,
   "id": "91c74625",
   "metadata": {},
   "outputs": [
    {
     "name": "stdout",
     "output_type": "stream",
     "text": [
      "Goood morning\n"
     ]
    }
   ],
   "source": [
    "print('Goood morning')"
   ]
  },
  {
   "cell_type": "code",
   "execution_count": 2,
   "id": "85f72dd6",
   "metadata": {},
   "outputs": [
    {
     "name": "stdout",
     "output_type": "stream",
     "text": [
      "Buddy says Woof!\n"
     ]
    }
   ],
   "source": [
    "class Dog:\n",
    "    def __init__(self, name):\n",
    "        self.name = name\n",
    "\n",
    "    def bark(self):\n",
    "        print(f\"{self.name} says Woof!\")\n",
    "\n",
    "my_dog = Dog(\"Buddy\")\n",
    "my_dog.bark()"
   ]
  },
  {
   "cell_type": "code",
   "execution_count": 10,
   "id": "ad51eec9",
   "metadata": {},
   "outputs": [
    {
     "name": "stdout",
     "output_type": "stream",
     "text": [
      "This car is from 2020.\n",
      "This car is from 2021.\n",
      "This car is from 2022.\n"
     ]
    }
   ],
   "source": [
    "class Car:\n",
    "    def __init__(self, year):\n",
    "        self.year = year\n",
    "    \n",
    "    def describe(self):\n",
    "        print(f\"This car is from {self.year}.\")\n",
    "\n",
    "car1 = Car(2020)\n",
    "car1.describe()\n",
    "\n",
    "car2 = Car(2021)\n",
    "car2.describe()\n",
    "\n",
    "car3 = Car(2022)\n",
    "car3.describe()"
   ]
  },
  {
   "cell_type": "code",
   "execution_count": 13,
   "id": "c9d9469f",
   "metadata": {},
   "outputs": [
    {
     "name": "stdout",
     "output_type": "stream",
     "text": [
      "Cat meows\n"
     ]
    }
   ],
   "source": [
    "class Animal:\n",
    "    def speaks(self):\n",
    "        print(\"Animal speaks\")\n",
    "\n",
    "class Cat(Animal):\n",
    "    def speaks(self):\n",
    "        print(\"Cat meows\")\n",
    "\n",
    "animal1 = Cat()\n",
    "animal1.speaks()"
   ]
  },
  {
   "cell_type": "code",
   "execution_count": 15,
   "id": "490126aa",
   "metadata": {},
   "outputs": [
    {
     "name": "stdout",
     "output_type": "stream",
     "text": [
      "Name: Alice\n",
      "Employee ID: 12345678\n"
     ]
    }
   ],
   "source": [
    "class Person:\n",
    "    def __init__(self, name):\n",
    "        self.name = name\n",
    "\n",
    "    def greet(self):\n",
    "        print(f\"Name: {self.name}\")\n",
    "\n",
    "class Employee(Person):\n",
    "    def __init__(self, name, employeee_id):\n",
    "        super().__init__(name)\n",
    "        self.employeee_id = employeee_id\n",
    "    \n",
    "    def greet(self):\n",
    "        super().greet()\n",
    "        print(f\"Employee ID: {self.employeee_id}\")\n",
    "\n",
    "emp1 = Employee(\"Alice\", 12345678)\n",
    "emp1.greet()"
   ]
  },
  {
   "cell_type": "code",
   "execution_count": 6,
   "id": "76ec4b60",
   "metadata": {},
   "outputs": [],
   "source": [
    "class BankAccount:\n",
    "    def __init__(self, balance):\n",
    "        self.balance = balance\n",
    "\n",
    "    def deposit(self, amount):\n",
    "        self.__balance += amount\n",
    "    \n",
    "    def withdraw(self, amount):\n",
    "        if amount > self.balance:\n",
    "            print(\"Insufficient funds\")\n",
    "        else:\n",
    "            self.__balance -= amount\n",
    "            print(f\"withraw {amount} successful\")\n",
    "\n",
    "        def show_balance(self):\n",
    "            print(f\"Balance: {self.__balance}\")"
   ]
  },
  {
   "cell_type": "code",
   "execution_count": 17,
   "id": "94c2c2ef",
   "metadata": {},
   "outputs": [
    {
     "name": "stdout",
     "output_type": "stream",
     "text": [
      "Bird is flying\n",
      "the jet is flying\n"
     ]
    }
   ],
   "source": [
    "class Bird:\n",
    "    def fly(self):\n",
    "        print(\"Bird is flying\")\n",
    "\n",
    "class jet:\n",
    "    def fly(self):\n",
    "        print(\"the jet is flying\")\n",
    "\n",
    "def fly_it(obj):\n",
    "    obj.fly()\n",
    "\n",
    "fly_it(Bird())\n",
    "fly_it(jet())"
   ]
  },
  {
   "cell_type": "code",
   "execution_count": null,
   "id": "790482e0",
   "metadata": {},
   "outputs": [
    {
     "name": "stdout",
     "output_type": "stream",
     "text": [
      "Hi, I'm Alice and I'm 16 years old.\n",
      "I'm a student with ID S001.\n",
      "Hi, I'm Bob and I'm 17 years old.\n",
      "I'm a student with ID S002.\n",
      "Average grade for Math: 92.5\n",
      "Average grade for English: 82.5\n",
      "Alice's average grade: 87.5\n",
      "Bob's average grade: 87.5\n"
     ]
    }
   ],
   "source": [
    "# Base class: Person\n",
    "class Person:\n",
    "    def __init__(self, name, age):\n",
    "        self.name = name\n",
    "        self.age = age\n",
    "\n",
    "    def introduce(self):\n",
    "        print(f\"Hi, I'm {self.name} and I'm {self.age} years old.\")\n",
    "\n",
    "# Student class inheriting from Person\n",
    "class Student(Person):\n",
    "    def __init__(self, name, age, student_id):\n",
    "        super().__init__(name, age)\n",
    "        self.__student_id = student_id  \n",
    "        self.__grades = {}  \n",
    "\n",
    "    def add_grade(self, subject, grade):\n",
    "        if 0 <= grade <= 100:  \n",
    "            self.__grades[subject] = grade\n",
    "        else:\n",
    "            print(\"Invalid grade. Please enter a value between 0 and 100.\")\n",
    "\n",
    "    def introduce(self):\n",
    "        super().introduce()  \n",
    "        print(f\"I'm a student with ID {self.__student_id}.\")\n",
    "\n",
    "    def get_grades(self):\n",
    "        return self.__grades\n",
    "\n",
    "    def calculate_average_grade(self):\n",
    "        if self.__grades:\n",
    "            return sum(self.__grades.values()) / len(self.__grades)\n",
    "        else:\n",
    "            return 0\n",
    "\n",
    "# School class\n",
    "class School:\n",
    "    def __init__(self):\n",
    "        self.students = []\n",
    "\n",
    "    def add_student(self, student):\n",
    "        if isinstance(student, Student):  \n",
    "            self.students.append(student)\n",
    "        else:\n",
    "            print(\"Invalid input. Please add a valid Student object.\")\n",
    "\n",
    "    def show_all_students(self):\n",
    "        for student in self.students:\n",
    "            student.introduce()\n",
    "\n",
    "    def get_average_grade(self, subject):\n",
    "        total = 0\n",
    "        count = 0\n",
    "        for student in self.students:\n",
    "            grades = student.get_grades()\n",
    "            if subject in grades:\n",
    "                total += grades[subject]\n",
    "                count += 1\n",
    "        if count == 0:\n",
    "            return f\"No grades available for {subject}.\"\n",
    "        else:\n",
    "            return total / count\n",
    "\n",
    "# Sample flow\n",
    "school = School()\n",
    "\n",
    "# Create students\n",
    "student1 = Student(\"Alice\", 16, \"S001\")\n",
    "student2 = Student(\"Bob\", 17, \"S002\")\n",
    "\n",
    "# Add grades to students\n",
    "student1.add_grade(\"Math\", 90)\n",
    "student1.add_grade(\"English\", 85)\n",
    "student2.add_grade(\"Math\", 95)\n",
    "student2.add_grade(\"English\", 80)\n",
    "\n",
    "# Add students to the school\n",
    "school.add_student(student1)\n",
    "school.add_student(student2)\n",
    "\n",
    "# Show all students' introductions\n",
    "school.show_all_students()\n",
    "\n",
    "# Calculate and print the average grade for Math\n",
    "print(f\"Average grade for Math: {school.get_average_grade('Math')}\")\n",
    "\n",
    "# Calculate and print the average grade for English\n",
    "print(f\"Average grade for English: {school.get_average_grade('English')}\")\n",
    "\n",
    "# Bonus: Calculate each student's average grade\n",
    "print(f\"Alice's average grade: {student1.calculate_average_grade()}\")\n",
    "print(f\"Bob's average grade: {student2.calculate_average_grade()}\")\n"
   ]
  }
 ],
 "metadata": {
  "kernelspec": {
   "display_name": "virtual",
   "language": "python",
   "name": "python3"
  },
  "language_info": {
   "codemirror_mode": {
    "name": "ipython",
    "version": 3
   },
   "file_extension": ".py",
   "mimetype": "text/x-python",
   "name": "python",
   "nbconvert_exporter": "python",
   "pygments_lexer": "ipython3",
   "version": "3.13.2"
  }
 },
 "nbformat": 4,
 "nbformat_minor": 5
}
