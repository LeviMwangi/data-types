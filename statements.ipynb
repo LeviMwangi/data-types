{
 "cells": [
  {
   "cell_type": "code",
   "execution_count": 1,
   "id": "465dfec2",
   "metadata": {},
   "outputs": [
    {
     "name": "stdout",
     "output_type": "stream",
     "text": [
      "Bigger than 2\n",
      "Still bigger\n",
      "done with 2\n"
     ]
    }
   ],
   "source": [
    "x=5 \n",
    "if x > 2 :\n",
    "    print('Bigger than 2')\n",
    "    print('Still bigger')\n",
    "print('done with 2')"
   ]
  },
  {
   "cell_type": "code",
   "execution_count": 8,
   "id": "f797ebc1",
   "metadata": {},
   "outputs": [
    {
     "name": "stdout",
     "output_type": "stream",
     "text": [
      "Your are an adult\n"
     ]
    }
   ],
   "source": [
    "age = 22\n",
    "if age < 13 :\n",
    "    print('Your are a child')\n",
    "elif age < 20:\n",
    "    print('Your are a teenager')\n",
    "else:\n",
    "    print('Your are an adult')\n"
   ]
  },
  {
   "cell_type": "code",
   "execution_count": null,
   "id": "f4b45b56",
   "metadata": {},
   "outputs": [
    {
     "name": "stdout",
     "output_type": "stream",
     "text": [
      "0\n",
      "1\n",
      "2\n",
      "3\n",
      "4\n",
      "5\n"
     ]
    }
   ],
   "source": [
    "for i in range(6):\n",
    "    print(i)"
   ]
  },
  {
   "cell_type": "code",
   "execution_count": 10,
   "id": "852af976",
   "metadata": {},
   "outputs": [
    {
     "name": "stdout",
     "output_type": "stream",
     "text": [
      "Kasongo\n",
      "Kasongo\n",
      "Kasongo\n",
      "Kasongo\n",
      "Kasongo\n",
      "Kasongo\n",
      "Kasongo\n",
      "Kasongo\n",
      "Kasongo\n",
      "Kasongo\n",
      "Kasongo\n",
      "Kasongo\n",
      "Kasongo\n",
      "Kasongo\n",
      "Kasongo\n",
      "Kasongo\n",
      "Kasongo\n",
      "Kasongo\n",
      "Kasongo\n",
      "Kasongo\n",
      "Kasongo\n",
      "Kasongo\n",
      "Kasongo\n",
      "Kasongo\n",
      "Kasongo\n",
      "Kasongo\n",
      "Kasongo\n",
      "Kasongo\n",
      "Kasongo\n",
      "Kasongo\n"
     ]
    }
   ],
   "source": [
    "n = int(input('How many times to say Kasongo'))\n",
    "for i in range(n):\n",
    "    print(\"Kasongo\")"
   ]
  },
  {
   "cell_type": "code",
   "execution_count": 11,
   "id": "f0d13d27",
   "metadata": {},
   "outputs": [
    {
     "name": "stdout",
     "output_type": "stream",
     "text": [
      "Access Granted!\n"
     ]
    }
   ],
   "source": [
    "password = ''\n",
    "while password != 'pass123#':\n",
    "    password = input('Enter Password: ')\n",
    "\n",
    "print('Access Granted!')"
   ]
  }
 ],
 "metadata": {
  "kernelspec": {
   "display_name": "virtual",
   "language": "python",
   "name": "python3"
  },
  "language_info": {
   "codemirror_mode": {
    "name": "ipython",
    "version": 3
   },
   "file_extension": ".py",
   "mimetype": "text/x-python",
   "name": "python",
   "nbconvert_exporter": "python",
   "pygments_lexer": "ipython3",
   "version": "3.13.2"
  }
 },
 "nbformat": 4,
 "nbformat_minor": 5
}
