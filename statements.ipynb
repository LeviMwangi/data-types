{
 "cells": [
  {
   "cell_type": "code",
   "execution_count": 1,
   "id": "465dfec2",
   "metadata": {},
   "outputs": [
    {
     "name": "stdout",
     "output_type": "stream",
     "text": [
      "Bigger than 2\n",
      "Still bigger\n",
      "done with 2\n"
     ]
    }
   ],
   "source": [
    "x=5 \n",
    "if x > 2 :\n",
    "    print('Bigger than 2')\n",
    "    print('Still bigger')\n",
    "print('done with 2')"
   ]
  },
  {
   "cell_type": "code",
   "execution_count": 8,
   "id": "f797ebc1",
   "metadata": {},
   "outputs": [
    {
     "name": "stdout",
     "output_type": "stream",
     "text": [
      "Your are an adult\n"
     ]
    }
   ],
   "source": [
    "age = 22\n",
    "if age < 13 :\n",
    "    print('Your are a child')\n",
    "elif age < 20:\n",
    "    print('Your are a teenager')\n",
    "else:\n",
    "    print('Your are an adult')\n"
   ]
  },
  {
   "cell_type": "code",
   "execution_count": null,
   "id": "f4b45b56",
   "metadata": {},
   "outputs": [
    {
     "name": "stdout",
     "output_type": "stream",
     "text": [
      "0\n",
      "1\n",
      "2\n",
      "3\n",
      "4\n",
      "5\n"
     ]
    }
   ],
   "source": [
    "for i in range(6):\n",
    "    print(i)"
   ]
  },
  {
   "cell_type": "code",
   "execution_count": 10,
   "id": "852af976",
   "metadata": {},
   "outputs": [
    {
     "name": "stdout",
     "output_type": "stream",
     "text": [
      "Kasongo\n",
      "Kasongo\n",
      "Kasongo\n",
      "Kasongo\n",
      "Kasongo\n",
      "Kasongo\n",
      "Kasongo\n",
      "Kasongo\n",
      "Kasongo\n",
      "Kasongo\n",
      "Kasongo\n",
      "Kasongo\n",
      "Kasongo\n",
      "Kasongo\n",
      "Kasongo\n",
      "Kasongo\n",
      "Kasongo\n",
      "Kasongo\n",
      "Kasongo\n",
      "Kasongo\n",
      "Kasongo\n",
      "Kasongo\n",
      "Kasongo\n",
      "Kasongo\n",
      "Kasongo\n",
      "Kasongo\n",
      "Kasongo\n",
      "Kasongo\n",
      "Kasongo\n",
      "Kasongo\n"
     ]
    }
   ],
   "source": [
    "n = int(input('How many times to say Kasongo'))\n",
    "for i in range(n):\n",
    "    print(\"Kasongo\")"
   ]
  },
  {
   "cell_type": "code",
   "execution_count": 11,
   "id": "f0d13d27",
   "metadata": {},
   "outputs": [
    {
     "name": "stdout",
     "output_type": "stream",
     "text": [
      "Access Granted!\n"
     ]
    }
   ],
   "source": [
    "password = ''\n",
    "while password != 'pass123#':\n",
    "    password = input('Enter Password: ')\n",
    "\n",
    "print('Access Granted!')"
   ]
  },
  {
   "cell_type": "code",
   "execution_count": 17,
   "id": "08222e29",
   "metadata": {},
   "outputs": [
    {
     "name": "stdout",
     "output_type": "stream",
     "text": [
      "Welcome to the number guessing game!\n",
      "I'm thinking of a number between 1 and 100.\n",
      "You have 5 attempts to guess the number.\n",
      "Too high! Try again.\n",
      "Too high! Try again.\n",
      "Too high! Try again.\n",
      "Too high! Try again.\n",
      "Invalid input! Please enter an integer.\n",
      "Sorry, you've used all 5 attempts. The number was 5. Better luck next time!\n"
     ]
    }
   ],
   "source": [
    "import random\n",
    "\n",
    "def guess_the_number():\n",
    "    print('Welcome to the number guessing game!')\n",
    "    print('Im thinking of a number between 1 and 100')\n",
    "\n",
    "    number_to_guess = random.randint(1, 100)\n",
    "    attempts = 5\n",
    "\n",
    "    print(f'You have {attempts} attempts to guess the number')\n",
    "\n",
    "    for attempt in range(1, attempts + 1):\n",
    "        try:\n",
    "            guess = int(input(f'Attempt {attempts}: Make a guess: '))\n",
    "\n",
    "            if guess < number_to_guess:\n",
    "                print('Too low try again')\n",
    "            elif guess > number_to_guess:\n",
    "                print('Too High! Try again.')\n",
    "            else:\n",
    "                print(f'Congratulations! You have guessed the {number_to_guess} in {attempts} attempts')\n",
    "        except ValueError:\n",
    "            print('Invalid Input')\n",
    "        \n",
    "        else:\n",
    "            print(f'Sorry Youve used all {attempts}. The number was {number_to_guess}. Better luck next time!')\n",
    "        \n",
    "guess_the_number()"
   ]
  },
  {
   "cell_type": "code",
   "execution_count": 31,
   "id": "83af7c37",
   "metadata": {},
   "outputs": [
    {
     "name": "stdout",
     "output_type": "stream",
     "text": [
      "Welcome to Millos number guessing game. You have only  attempts. Guess the correct number to win the game\n",
      "Your guess is higher\n"
     ]
    },
    {
     "ename": "ValueError",
     "evalue": "invalid literal for int() with base 10: '/'",
     "output_type": "error",
     "traceback": [
      "\u001b[31m---------------------------------------------------------------------------\u001b[39m",
      "\u001b[31mValueError\u001b[39m                                Traceback (most recent call last)",
      "\u001b[36mCell\u001b[39m\u001b[36m \u001b[39m\u001b[32mIn[31]\u001b[39m\u001b[32m, line 13\u001b[39m\n\u001b[32m     11\u001b[39m \u001b[38;5;28;01mwhile\u001b[39;00m x < chances:\n\u001b[32m     12\u001b[39m     x += \u001b[32m1\u001b[39m\n\u001b[32m---> \u001b[39m\u001b[32m13\u001b[39m     guess = \u001b[38;5;28;43mint\u001b[39;49m\u001b[43m(\u001b[49m\u001b[38;5;28;43minput\u001b[39;49m\u001b[43m(\u001b[49m\u001b[33;43m'\u001b[39;49m\u001b[33;43mGuess a Number:\u001b[39;49m\u001b[33;43m'\u001b[39;49m\u001b[43m)\u001b[49m\u001b[43m)\u001b[49m \n\u001b[32m     15\u001b[39m     \u001b[38;5;28;01mif\u001b[39;00m guess == numbers_to_guess:\n\u001b[32m     16\u001b[39m         \u001b[38;5;28mprint\u001b[39m(\u001b[33mf\u001b[39m\u001b[33m'\u001b[39m\u001b[33mCongratulations youve guessed correctlty \u001b[39m\u001b[38;5;132;01m{\u001b[39;00mnumbers_to_guess\u001b[38;5;132;01m}\u001b[39;00m\u001b[33m in \u001b[39m\u001b[38;5;132;01m{\u001b[39;00mx\u001b[38;5;132;01m}\u001b[39;00m\u001b[33m attempt!\u001b[39m\u001b[33m'\u001b[39m)\n",
      "\u001b[31mValueError\u001b[39m: invalid literal for int() with base 10: '/'"
     ]
    }
   ],
   "source": [
    "import random\n",
    "\n",
    "print('Welcome to Millos number guessing game. You have only  attempts. Guess the correct number to win the game')\n",
    "\n",
    "numbers_to_guess = random.randrange(100)\n",
    "\n",
    "chances = 3\n",
    "\n",
    "x = 0\n",
    "\n",
    "while x < chances:\n",
    "    x += 1\n",
    "    guess = int(input('Guess a Number:')) \n",
    "\n",
    "    if guess == numbers_to_guess:\n",
    "        print(f'Congratulations youve guessed correctlty {numbers_to_guess} in {x} attempt!')\n",
    "        break\n",
    "    elif x >= chances and guess != chances:\n",
    "        print(f'Youve used all your attempts. Better luck next time. The number was {numbers_to_guess}')\n",
    "    \n",
    "    elif guess > numbers_to_guess:\n",
    "        print('Your guess is higher')\n",
    "    elif guess < numbers_to_guess:\n",
    "        print('your guess is Lower')\n",
    " "
   ]
  },
  {
   "cell_type": "code",
   "execution_count": 33,
   "id": "fdd65021",
   "metadata": {},
   "outputs": [
    {
     "name": "stdout",
     "output_type": "stream",
     "text": [
      "Welcome to my calculator\n",
      "The result of 12.0 / 2.0 is 6.0\n"
     ]
    }
   ],
   "source": [
    "print('Welcome to my calculator')\n",
    "\n",
    "num1 = float(input(\"Enter Value here: \"))\n",
    "operator = input(\"Enter an Operator (+, -, *, /): \")\n",
    "num2 = float(input(\"Enter value Here: \"))\n",
    "\n",
    "\n",
    "if operator == '+':\n",
    "    result = num1 + num2\n",
    "    print(f\"The result of {num1} + {num2} is {result}\")\n",
    "elif operator == '-':\n",
    "    result =  num1 - num2\n",
    "    print(f'The result of {num1} - {num2} is {result}')\n",
    "elif operator == '*':\n",
    "    result = num1 * num2\n",
    "    print(f'The result of {num1} * {num2} is {result}')\n",
    "elif operator == '/':\n",
    "    if num2 != 0:\n",
    "        result = num1 / num2\n",
    "        print(f'The result of {num1} / {num2} is {result}')\n",
    "    else: print('Error: Division by zero is not allowed')\n"
   ]
  }
 ],
 "metadata": {
  "kernelspec": {
   "display_name": "virtual",
   "language": "python",
   "name": "python3"
  },
  "language_info": {
   "codemirror_mode": {
    "name": "ipython",
    "version": 3
   },
   "file_extension": ".py",
   "mimetype": "text/x-python",
   "name": "python",
   "nbconvert_exporter": "python",
   "pygments_lexer": "ipython3",
   "version": "3.13.2"
  }
 },
 "nbformat": 4,
 "nbformat_minor": 5
}
