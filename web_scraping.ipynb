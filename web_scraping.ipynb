{
 "cells": [
  {
   "cell_type": "markdown",
   "id": "90ce7510",
   "metadata": {},
   "source": [
    "## Web scraping\n",
    "- check for access to a site - 200 status code\n",
    "- get data in html\n",
    "- get text data as a whole\n",
    "- filter data to display specific data eg quote -title, author values\n",
    "- access data with html different selectors and tags\n",
    "- save data to csv file\n",
    "- get data from all pages\n",
    "- save data from all pages \n",
    "- save data from all pages to csv\n",
    "- scrape data using selenium automation tool"
   ]
  },
  {
   "cell_type": "code",
   "execution_count": 3,
   "id": "82f6d029",
   "metadata": {},
   "outputs": [
    {
     "name": "stdout",
     "output_type": "stream",
     "text": [
      "200\n"
     ]
    }
   ],
   "source": [
    "import requests\n",
    "\n",
    "response = requests.get('https://quotes.toscrape.com')\n",
    "\n",
    "print(response.status_code)"
   ]
  }
 ],
 "metadata": {
  "kernelspec": {
   "display_name": "virtual",
   "language": "python",
   "name": "python3"
  },
  "language_info": {
   "codemirror_mode": {
    "name": "ipython",
    "version": 3
   },
   "file_extension": ".py",
   "mimetype": "text/x-python",
   "name": "python",
   "nbconvert_exporter": "python",
   "pygments_lexer": "ipython3",
   "version": "3.13.2"
  }
 },
 "nbformat": 4,
 "nbformat_minor": 5
}
